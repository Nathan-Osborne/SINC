{
 "cells": [
  {
   "cell_type": "code",
   "execution_count": 1,
   "metadata": {
    "collapsed": true
   },
   "outputs": [],
   "source": [
    "import sys\n",
    "sys.path.append(\"..\")\n",
    "from SINC_functions import *\n",
    "import matplotlib.pyplot as plt"
   ]
  },
  {
   "cell_type": "code",
   "execution_count": 2,
   "metadata": {
    "collapsed": true
   },
   "outputs": [],
   "source": [
    "x = np.genfromtxt(\"OTU.csv\")\n",
    "m = np.genfromtxt(\"Cytokine.csv\")"
   ]
  },
  {
   "cell_type": "code",
   "execution_count": null,
   "metadata": {},
   "outputs": [
    {
     "name": "stdout",
     "output_type": "stream",
     "text": [
      "('ELBO:', nan, 'CHANGE IN ELBO:', 10000)\n"
     ]
    }
   ],
   "source": [
    "v0 = 0.01\n",
    "v1 = 10\n",
    "lamb = 150\n",
    "vB = 1\n",
    "a_gamma = 2\n",
    "b_gamma = 2\n",
    "a_pi = 2\n",
    "b_pi = 2\n",
    "max_iters = 40\n",
    "tol_prec = 0.01\n",
    "tol_elbo = 1\n",
    "tol_B = 0.01\n",
    "cpus = 1\n",
    "omega, EZ, phi,B,iters_total, elbo, elbo_score  = SINC(x, m, v0, v1, lamb, vB,a_gamma,b_gamma,a_pi,b_pi, max_iters, tol_prec, tol_elbo, cpus)"
   ]
  },
  {
   "cell_type": "code",
   "execution_count": 22,
   "metadata": {
    "collapsed": true
   },
   "outputs": [],
   "source": [
    "np.savetxt(\"Estimated_Precision.csv\",omega, delimiter=\",\")\n",
    "np.savetxt(\"Estimated_MicroMicro_Edge_Prob.csv\",EZ, delimiter=\",\")\n",
    "np.savetxt(\"Estimated_Coefficients.csv\",B, delimiter=\",\")\n",
    "np.savetxt(\"Estimated_CytoMicro_Edge_Prob.csv\",phi, delimiter=\",\")"
   ]
  },
  {
   "cell_type": "code",
   "execution_count": 24,
   "metadata": {},
   "outputs": [
    {
     "name": "stdout",
     "output_type": "stream",
     "text": [
      "(90, 3, 29)\n",
      "(-31910.404914961357, -9526.920829688515, -44351.32463209643, -85788.65037674631, 85788.65037674631)\n",
      "('Finished Iteration 1: ', 'change in Omega,B,Z', 0.0, 0.9557814934402833, 4.851179829522034)\n",
      "(90, 3, 29)\n",
      "(-16895.163287177405, -9526.920829688515, -44344.532495986125, -70766.61661285204, 15022.033763894273)\n",
      "('Finished Iteration 2: ', 'change in Omega,B,Z', 0.0, 0.539547135969085, 1.237017300881842)\n",
      "(90, 3, 29)\n",
      "(-14367.928232024504, -9526.920829688515, -44340.15661734701, -68235.00567906004, 2531.610933792006)\n",
      "('Finished Iteration 3: ', 'change in Omega,B,Z', 0.0, 0.05226030986781538, 0.5203641675067794)\n",
      "(90, 3, 29)\n",
      "(-13523.518510667855, -9526.920829688515, -44335.96416991076, -67386.40351026713, 848.6021687929024)\n",
      "('Finished Iteration 4: ', 'change in Omega,B,Z', 0.0, 0.04577900478294184, 0.6237823313444393)\n",
      "(90, 3, 29)\n",
      "(-13344.949335265945, -9526.920829688515, -44331.50722054069, -67203.37738549514, 183.02612477199)\n",
      "('Finished Iteration 5: ', 'change in Omega,B,Z', 0.0, 0.05438434939692306, 0.6361650788390252)\n",
      "(90, 3, 29)\n",
      "(-13355.963696698742, -9526.920829688515, -44326.642016404025, -67209.52654279128, -6.149157296138583)\n",
      "('Finished Iteration 6: ', 'change in Omega,B,Z', 0.0, 0.04173842444831063, 0.9790233932269445)\n",
      "('v0 = ', 0.01, 'Sparsity = ', 0.0, 'ELBO = ', -67209.52654279128)\n"
     ]
    }
   ],
   "source": [
    "v0 = 0.01\n",
    "v1 = 10\n",
    "lamb = 150\n",
    "vB = 1\n",
    "a_gamma = 2\n",
    "b_gamma = 2\n",
    "a_pi = 2\n",
    "b_pi = 2\n",
    "max_iters = 50\n",
    "tol_prec = 0.01\n",
    "tol_elbo = 1\n",
    "tol_B = 0.01\n",
    "cpus = 1\n",
    "omega, EZ, phi,B,iters_total, elbo, elbo_score  = SINC_fixed_Omega(x, m, v0, v1, lamb, vB,a_gamma,b_gamma,a_pi,b_pi, max_iters, tol_prec, tol_elbo, cpus)"
   ]
  },
  {
   "cell_type": "code",
   "execution_count": 25,
   "metadata": {
    "collapsed": true
   },
   "outputs": [],
   "source": [
    "np.savetxt(\"Estimated_Precision_fixed_Omega.csv\",omega, delimiter=\",\")\n",
    "np.savetxt(\"Estimated_MicroMicro_Edge_Prob_fixed_Omega.csv\",EZ, delimiter=\",\")\n",
    "np.savetxt(\"Estimated_Coefficients_fixed_Omega.csv\",B, delimiter=\",\")\n",
    "np.savetxt(\"Estimated_CytoMicro_Edge_Prob_fixed_Omega.csv\",phi, delimiter=\",\")"
   ]
  },
  {
   "cell_type": "code",
   "execution_count": 28,
   "metadata": {},
   "outputs": [
    {
     "name": "stdout",
     "output_type": "stream",
     "text": [
      "(0, -19284.310187152965, -44193.72016420862, -63478.03035136159, 63478.03035136159)\n",
      "('Finished Iteration 1: ', 'change in Omega,B,Z', 66.83899565941304, 0.0, 3.9914072154870532)\n",
      "(0, -11801.198737947909, -44188.66999765817, -55989.868735606084, 7488.161615755504)\n",
      "('Finished Iteration 2: ', 'change in Omega,B,Z', 0.12390842210407205, 0.0, 1.0932315549565677)\n",
      "(0, -11251.000765361678, -44187.534859449144, -55438.53562481082, 551.3331107952617)\n",
      "('Finished Iteration 3: ', 'change in Omega,B,Z', 0.1332889533125058, 0.0, 0.752286427347908)\n",
      "(0, -11178.70869963215, -44186.947844746974, -55365.656544379126, 72.87908043169591)\n",
      "('Finished Iteration 4: ', 'change in Omega,B,Z', 0.07899243449493643, 0.0, 0.6685294686990195)\n",
      "(0, -11169.411545477271, -44186.49077901219, -55355.902324489456, 9.754219889669912)\n",
      "('Finished Iteration 5: ', 'change in Omega,B,Z', 0.042276583615579066, 0.0, 0.5527262258626018)\n",
      "(0, -11166.472768730942, -44186.133711957445, -55352.60648068839, 3.2958438010682585)\n",
      "('Finished Iteration 6: ', 'change in Omega,B,Z', 0.036018460169496724, 0.0, 0.49510225639138716)\n",
      "(0, -11167.588848500158, -44185.879774696994, -55353.46862319715, -0.8621425087621901)\n",
      "('Finished Iteration 7: ', 'change in Omega,B,Z', 0.03878755939589932, 0.0, 0.42062064013928957)\n",
      "('v0 = ', 0.01, 'Sparsity = ', 0.04185185185185185, 'ELBO = ', -55353.46862319715)\n"
     ]
    }
   ],
   "source": [
    "v0 = 0.01\n",
    "v1 = 10\n",
    "lamb = 150\n",
    "vB = 1\n",
    "a_gamma = 2\n",
    "b_gamma = 2\n",
    "a_pi = 2\n",
    "b_pi = 2\n",
    "max_iters = 50\n",
    "tol_prec = 0.01\n",
    "tol_elbo = 1\n",
    "tol_B = 0.01\n",
    "cpus = 1\n",
    "omega, EZ, phi,B,iters_total, elbo, elbo_score  = SINC_fixed_B(x, m, v0, v1, lamb, vB,a_gamma,b_gamma,a_pi,b_pi, max_iters, tol_prec, tol_elbo, cpus)"
   ]
  },
  {
   "cell_type": "code",
   "execution_count": 29,
   "metadata": {
    "collapsed": true
   },
   "outputs": [],
   "source": [
    "np.savetxt(\"Estimated_Precision_fixed_B.csv\",omega, delimiter=\",\")\n",
    "np.savetxt(\"Estimated_MicroMicro_Edge_Prob_fixed_B.csv\",EZ, delimiter=\",\")\n",
    "np.savetxt(\"Estimated_Coefficients_fixed_B.csv\",B, delimiter=\",\")\n",
    "np.savetxt(\"Estimated_CytoMicro_Edge_Prob_fixed_B.csv\",phi, delimiter=\",\")"
   ]
  }
 ],
 "metadata": {
  "kernelspec": {
   "display_name": "Python 2",
   "language": "python",
   "name": "python2"
  },
  "language_info": {
   "codemirror_mode": {
    "name": "ipython",
    "version": 2
   },
   "file_extension": ".py",
   "mimetype": "text/x-python",
   "name": "python",
   "nbconvert_exporter": "python",
   "pygments_lexer": "ipython2",
   "version": "2.7.15"
  }
 },
 "nbformat": 4,
 "nbformat_minor": 2
}
