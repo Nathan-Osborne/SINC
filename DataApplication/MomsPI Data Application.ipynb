{
 "cells": [
  {
   "cell_type": "code",
   "execution_count": 1,
   "metadata": {
    "collapsed": true
   },
   "outputs": [],
   "source": [
    "import sys\n",
    "sys.path.append(\"..\")\n",
    "from SINC_functions import *\n",
    "import matplotlib.pyplot as plt"
   ]
  },
  {
   "cell_type": "code",
   "execution_count": 3,
   "metadata": {},
   "outputs": [],
   "source": [
    "x = np.genfromtxt(\"OTU.csv\")\n",
    "m = np.genfromtxt(\"Cytokine.csv\")"
   ]
  },
  {
   "cell_type": "code",
   "execution_count": 4,
   "metadata": {},
   "outputs": [
    {
     "name": "stderr",
     "output_type": "stream",
     "text": [
      "../SINC_functions.py:159: RuntimeWarning: overflow encountered in exp\n",
      "  return(np.exp(x) / (1 + np.exp(x)))\n",
      "../SINC_functions.py:159: RuntimeWarning: invalid value encountered in divide\n",
      "  return(np.exp(x) / (1 + np.exp(x)))\n",
      "../SINC_functions.py:196: RuntimeWarning: divide by zero encountered in double_scalars\n",
      "  phi_j = np.log(theta/(1 - theta)) + np.log(sig[j]/(v1*sig_hat)) + mu[j]**2/(2*sig[j])\n"
     ]
    },
    {
     "name": "stdout",
     "output_type": "stream",
     "text": [
      "('Finished Iteration 1: ', 'change in Omega,B,Z', 66.83261954207948, 2.6360292633461633, 4.060001175630351)\n",
      "('Finished Iteration 2: ', 'change in Omega,B,Z', 0.1578479069969989, 2.581107715626827, 2.728380837137202)\n",
      "('Finished Iteration 3: ', 'change in Omega,B,Z', 0.16404279465304616, 0.21467054345758152, 1.330542222287622)\n",
      "('Finished Iteration 4: ', 'change in Omega,B,Z', 0.08354564501960227, 1.5971013399134286, 0.9865855643858618)\n",
      "('Finished Iteration 5: ', 'change in Omega,B,Z', 0.041537396030960294, 0.5682403254830876, 0.5518490097717157)\n",
      "('Finished Iteration 6: ', 'change in Omega,B,Z', 0.032285237146162875, 0.05729422832752211, 0.5639437084568919)\n",
      "('Finished Iteration 7: ', 'change in Omega,B,Z', 0.07738222277043993, 0.15981702092200434, 1.1977377574778205)\n",
      "('Finished Iteration 8: ', 'change in Omega,B,Z', 0.045209211242175695, 0.0754926966624718, 0.7984336799362823)\n",
      "('Finished Iteration 9: ', 'change in Omega,B,Z', 0.032968393556715284, 0.02424100796027151, 0.6327922116244449)\n",
      "('Finished Iteration 10: ', 'change in Omega,B,Z', 0.035582421013570655, 0.019822957258638252, 0.4585355393100543)\n",
      "('Finished Iteration 11: ', 'change in Omega,B,Z', 0.031206637583080957, 0.019234951625885843, 0.3755032450115612)\n",
      "('Finished Iteration 12: ', 'change in Omega,B,Z', 0.03017931610171462, 0.013522127385547145, 0.27406065159839943)\n",
      "('Finished Iteration 13: ', 'change in Omega,B,Z', 0.03598387665886994, 0.015380022118901882, 0.4834920926357744)\n",
      "('Finished Iteration 14: ', 'change in Omega,B,Z', 0.03659693169527459, 0.0664984226798567, 0.26864933247073797)\n",
      "('Finished Iteration 15: ', 'change in Omega,B,Z', 0.018402696943072616, 0.01487241335199066, 0.6650705511080381)\n",
      "('Finished Iteration 16: ', 'change in Omega,B,Z', 0.016230665207116468, 0.0588811485925092, 0.4611813735791672)\n",
      "('Finished Iteration 17: ', 'change in Omega,B,Z', 0.006510701752609371, 0.008719158071493927, 0.3886505336490893)\n",
      "('v0 = ', 0.01, 'Sparsity = ', 0.03777777777777778)\n"
     ]
    }
   ],
   "source": [
    "v0 = 0.01\n",
    "v1 = 10\n",
    "lamb = 150\n",
    "vB = 1\n",
    "max_iters = 500\n",
    "tol_prec = 0.01\n",
    "tol_B = 0.01\n",
    "cpus = 1\n",
    "omega, EZ, phi,B,iters_total  = SINC(x, m, v0, v1, lamb, vB, max_iters, tol_prec, tol_B, cpus)"
   ]
  }
 ],
 "metadata": {
  "kernelspec": {
   "display_name": "Python 2",
   "language": "python",
   "name": "python2"
  },
  "language_info": {
   "codemirror_mode": {
    "name": "ipython",
    "version": 2
   },
   "file_extension": ".py",
   "mimetype": "text/x-python",
   "name": "python",
   "nbconvert_exporter": "python",
   "pygments_lexer": "ipython2",
   "version": "2.7.15"
  }
 },
 "nbformat": 4,
 "nbformat_minor": 2
}
