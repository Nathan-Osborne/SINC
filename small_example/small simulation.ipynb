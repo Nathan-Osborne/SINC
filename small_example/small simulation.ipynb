{
 "cells": [
  {
   "cell_type": "code",
   "execution_count": 1,
   "metadata": {},
   "outputs": [],
   "source": [
    "import sys\n",
    "sys.path.append(\"..\")\n",
    "from SINC_functions import *\n",
    "import matplotlib.pyplot as plt"
   ]
  },
  {
   "cell_type": "code",
   "execution_count": 2,
   "metadata": {},
   "outputs": [],
   "source": [
    "x = np.genfromtxt(\"x.csv\")\n",
    "m = np.genfromtxt(\"m.csv\")\n",
    "Omega_true = np.genfromtxt(\"prec_true.csv\")\n",
    "B_true = np.genfromtxt(\"B_true.csv\")\n",
    "adj_true = np.genfromtxt(\"adj_true.csv\")"
   ]
  },
  {
   "cell_type": "code",
   "execution_count": 3,
   "metadata": {},
   "outputs": [
    {
     "name": "stdout",
     "output_type": "stream",
     "text": [
      "('Finished Iteration 1: ', 'change in Omega,B,Z', 0.2859207130898624, 1.0608001637657374, 2.5469365517336024)\n",
      "('Finished Iteration 2: ', 'change in Omega,B,Z', 0.4034425859320445, 0.12236968268034043, 1.0697022924285613)\n",
      "('Finished Iteration 3: ', 'change in Omega,B,Z', 0.17895251813782265, 0.10583791317714308, 0.7540439579900617)\n",
      "('Finished Iteration 4: ', 'change in Omega,B,Z', 0.060047551082900386, 0.12502027734150112, 0.3891473745184657)\n",
      "('Finished Iteration 5: ', 'change in Omega,B,Z', 0.03897985206302422, 0.06460714564268666, 0.5518037875106176)\n",
      "('Finished Iteration 6: ', 'change in Omega,B,Z', 0.038793713480368155, 0.0949067667102998, 0.13985738487945)\n",
      "('Finished Iteration 7: ', 'change in Omega,B,Z', 0.02595401963285047, 0.02034710949377294, 0.08997574436801559)\n",
      "('Finished Iteration 8: ', 'change in Omega,B,Z', 0.03880194295873496, 0.010508024336597532, 0.08905113759590338)\n",
      "('Finished Iteration 9: ', 'change in Omega,B,Z', 0.00723798823980859, 0.005557766173931333, 0.06281120927003414)\n",
      "('v0 = ', 0.01, 'Sparsity = ', 0.0368)\n"
     ]
    }
   ],
   "source": [
    "v0 = 0.01\n",
    "v1 = 10\n",
    "lamb = 150\n",
    "vB = 1\n",
    "max_iters = 10\n",
    "tol_prec = 0.01\n",
    "tol_B = 0.01\n",
    "cpus = 1\n",
    "omega, EZ, phi,B,iters_total  = SINC(x, m, v0, v1, lamb, vB, max_iters, tol_prec, tol_B, cpus)"
   ]
  },
  {
   "cell_type": "markdown",
   "metadata": {},
   "source": [
    "# Check Model Performance"
   ]
  },
  {
   "cell_type": "markdown",
   "metadata": {},
   "source": [
    "#### plot estimated B coefficients against true coefficients"
   ]
  },
  {
   "cell_type": "code",
   "execution_count": 9,
   "metadata": {},
   "outputs": [
    {
     "data": {
      "image/png": "[encoded data removed]",
      "text/plain": [
       "<Figure size 432x288 with 1 Axes>"
      ]
     },
     "metadata": {},
     "output_type": "display_data"
    }
   ],
   "source": [
    "plt.plot(B.flatten(),B_true.flatten(),'ro')\n",
    "plt.show()"
   ]
  },
  {
   "cell_type": "markdown",
   "metadata": {},
   "source": [
    "#### plot estimated B coefficients against true coefficients accounting for which covariates are selected"
   ]
  },
  {
   "cell_type": "code",
   "execution_count": 10,
   "metadata": {},
   "outputs": [
    {
     "data": {
      "image/png": "[encoded data removed]",
      "text/plain": [
       "<Figure size 432x288 with 1 Axes>"
      ]
     },
     "metadata": {},
     "output_type": "display_data"
    }
   ],
   "source": [
    "B_threshold = B.flatten() * (phi.flatten() > 0.50)\n",
    "plt.plot(B_threshold,B_true.flatten(),'ro')\n",
    "plt.show()"
   ]
  },
  {
   "cell_type": "markdown",
   "metadata": {},
   "source": [
    "#### find the TPR, FPR, MCC, and F1 for B estimates"
   ]
  },
  {
   "cell_type": "code",
   "execution_count": 6,
   "metadata": {},
   "outputs": [
    {
     "name": "stdout",
     "output_type": "stream",
     "text": [
      "('TPR:', 0.9867, 'FPR:', 0.0033, 'MCC:', 0.9917, 'F1:', 0.9933)\n"
     ]
    }
   ],
   "source": [
    "B_edges_true = (B_true != 0)*1\n",
    "B_edges_est = (phi > 0.50) *1\n",
    "TPR,FPR,MCC,F1 = np.round(Performance_B(B_edges_true,B_edges_est),4)\n",
    "print(\"TPR:\",TPR,\"FPR:\",FPR,\"MCC:\",MCC,\"F1:\",F1,)"
   ]
  },
  {
   "cell_type": "code",
   "execution_count": null,
   "metadata": {},
   "outputs": [],
   "source": []
  },
  {
   "cell_type": "markdown",
   "metadata": {},
   "source": [
    "#### Plot estimated precision matrix values against true precision matrix values"
   ]
  },
  {
   "cell_type": "code",
   "execution_count": 7,
   "metadata": {},
   "outputs": [
    {
     "data": {
      "image/png": "[encoded data removed]",
      "text/plain": [
       "<Figure size 432x288 with 1 Axes>"
      ]
     },
     "metadata": {},
     "output_type": "display_data"
    }
   ],
   "source": [
    "plt.plot(omega.flatten(),Omega_true.flatten(),'ro')\n",
    "plt.show()"
   ]
  },
  {
   "cell_type": "markdown",
   "metadata": {},
   "source": [
    "#### find the TPR, FPR, MCC, and F1 for Omega estimates"
   ]
  },
  {
   "cell_type": "code",
   "execution_count": 13,
   "metadata": {},
   "outputs": [
    {
     "name": "stdout",
     "output_type": "stream",
     "text": [
      "('TPR:', 0.5217, 'FPR:', 0.0357, 'MCC:', 0.6247, 'F1:', 0.6316)\n"
     ]
    }
   ],
   "source": [
    "TPR,FPR,MCC,F1 = np.round(Performance_Omega(adj_true,adj_est),4)\n",
    "print(\"TPR:\",TPR,\"FPR:\",FPR,\"MCC:\",MCC,\"F1:\",F1,)"
   ]
  },
  {
   "cell_type": "code",
   "execution_count": null,
   "metadata": {},
   "outputs": [],
   "source": []
  },
  {
   "cell_type": "code",
   "execution_count": null,
   "metadata": {},
   "outputs": [],
   "source": []
  }
 ],
 "metadata": {
  "kernelspec": {
   "display_name": "Python 2",
   "language": "python",
   "name": "python2"
  },
  "language_info": {
   "codemirror_mode": {
    "name": "ipython",
    "version": 2
   },
   "file_extension": ".py",
   "mimetype": "text/x-python",
   "name": "python",
   "nbconvert_exporter": "python",
   "pygments_lexer": "ipython2",
   "version": "2.7.15"
  }
 },
 "nbformat": 4,
 "nbformat_minor": 2
}
